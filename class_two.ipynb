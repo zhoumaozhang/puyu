{
 "cells": [
  {
   "cell_type": "markdown",
   "metadata": {},
   "source": [
    "# 浦语大模型趣味 Demo\n",
    "## 部署InterLM2-Chat-1.8B进行智能对话\n",
    "### 配置基础环境\n",
    "创建开发机，选择镜像，选择显卡型号，进入开发机，创建虚拟环境，进入虚拟环境，配置项目需要的环境包。\n",
    "### 下载InterLM2-Chat-1.8B模型\n",
    "创建下载模型的py文件，从modelscope中下载模型到本地文件夹。\n",
    "### 运行对话脚本\n",
    "创建py文件，调用已下载的模型，进行智能对话。\n",
    "![example](300story.png \"example\")\n",
    "![my](41.png \"4-1\")\n",
    "## 部署实战营优秀作品 八戒-Chat-1.8B\n",
    "\n"
   ]
  },
  {
   "cell_type": "markdown",
   "metadata": {},
   "source": []
  }
 ],
 "metadata": {
  "language_info": {
   "name": "python"
  }
 },
 "nbformat": 4,
 "nbformat_minor": 2
}
