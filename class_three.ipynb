{
 "cells": [
  {
   "cell_type": "markdown",
   "metadata": {},
   "source": [
    "# 第三次课程笔记\n",
    "## RAG(Retrieval Augmented Generation)\n",
    "定义：结合检索和生成的技术，旨在通过\\textbf{外部知识库}来增强LLMs的性能。通过检索与用户输入相关的信息片段，生成更加准确、丰富的回答。\n",
    "\n",
    "解决的问题：模型的生成幻觉、过时知识、缺乏透明的可追溯的推理过程。\n",
    "\n",
    "应用：问答系统、文本生成、信息检索、图片描述。\n",
    "\n",
    "工作原理：索引（分割知识源，存储到向量数据库中）、检索（将用户的问题编码成向量，在数据库中找最相关的文档块）、生成（将检索到的文档块和问题作为prompt输入到LLM中）\n",
    "\n",
    "优化方法：嵌入优化、索引优化、查询优化、上下文管理\n",
    "\n",
    "RAG vs fine-tuning\n",
    "RAG：非记忆参数\n",
    "\n",
    "## 茴香豆\n",
    "基于LLMs的领域知识助手\n",
    "![my](hui.png \"hui\")\n",
    "\n",
    "\n",
    "\n",
    "\n",
    "\n"
   ]
  }
 ],
 "metadata": {
  "language_info": {
   "name": "python"
  }
 },
 "nbformat": 4,
 "nbformat_minor": 2
}
