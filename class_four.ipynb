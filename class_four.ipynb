{
 "cells": [
  {
   "cell_type": "markdown",
   "metadata": {},
   "source": [
    "# 第四次课程作业\n",
    "## Finetune简介\n",
    "两种微调范式：增量预训练与指令跟随\n",
    "增量预训练：学习新知识，如垂直领域的常识\n",
    "指令跟随微调：根据人类指令进行对话，训练数据需要高质量的问答数据。\n",
    "## 微调方案\n",
    "LoRA & QLoRA\n",
    "新增旁分支，不改变基本模型。\n",
    "## 微调过程\n",
    "![image](finetune.png \"image\")"
   ]
  },
  {
   "cell_type": "markdown",
   "metadata": {},
   "source": []
  }
 ],
 "metadata": {
  "language_info": {
   "name": "python"
  }
 },
 "nbformat": 4,
 "nbformat_minor": 2
}
