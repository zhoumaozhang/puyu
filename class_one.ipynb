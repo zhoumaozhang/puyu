{
 "cells": [
  {
   "cell_type": "markdown",
   "metadata": {},
   "source": [
    "## 书生浦语大模型开源历程\n",
    "InternLM千亿参数大模型发布\n",
    "\n",
    "全面升级，支持8K语境、26种语言，InternLM-7B模型，全链条开源工具体系。\n",
    "\n",
    "书生万卷，多模态预训练语料库开源\n",
    "\n",
    "InternLM-Chat-7B发布\n",
    "\n",
    "参数量提升至123B，千亿参数模型\n",
    "\n",
    "InternLM-20B 开源\n",
    "\n",
    "## InternLM2体系\n",
    "Base、~、Chat\n",
    "\n",
    "## CompassKit：大模型评测全栈工具链\n",
    "\n",
    "## LMDeploy：提供大模型GPU部署全流程解决方法\n",
    "\n",
    "## AgentLego：多模态智能体工具箱\n",
    "\n",
    "\n",
    "\n"
   ]
  },
  {
   "cell_type": "markdown",
   "metadata": {},
   "source": []
  }
 ],
 "metadata": {
  "language_info": {
   "name": "python"
  }
 },
 "nbformat": 4,
 "nbformat_minor": 2
}
